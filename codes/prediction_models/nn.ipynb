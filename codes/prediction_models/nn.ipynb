{
 "cells": [
  {
   "cell_type": "markdown",
   "metadata": {
    "id": "8D4BTKwe09Kp"
   },
   "source": [
    "## Neural Network Regression"
   ]
  },
  {
   "cell_type": "code",
   "execution_count": 1,
   "metadata": {
    "id": "B3NIkFcAHLRL"
   },
   "outputs": [],
   "source": [
    "import random\n",
    "import pandas as pd\n",
    "import numpy as np\n",
    "import matplotlib.pyplot as plt\n",
    "import seaborn as sns\n",
    "from sklearn.model_selection import GridSearchCV\n",
    "from sklearn.metrics import mean_squared_error, mean_absolute_error, r2_score\n",
    "from keras.models import Sequential\n",
    "from keras.layers import Dense, Input, Dropout\n",
    "from keras.optimizers import Adam\n",
    "from keras.wrappers.scikit_learn import KerasRegressor\n",
    "from keras.constraints import maxnorm"
   ]
  },
  {
   "cell_type": "code",
   "execution_count": 2,
   "metadata": {
    "id": "QZCf9qgvIBK-"
   },
   "outputs": [
    {
     "data": {
      "text/html": [
       "<div>\n",
       "<style scoped>\n",
       "    .dataframe tbody tr th:only-of-type {\n",
       "        vertical-align: middle;\n",
       "    }\n",
       "\n",
       "    .dataframe tbody tr th {\n",
       "        vertical-align: top;\n",
       "    }\n",
       "\n",
       "    .dataframe thead th {\n",
       "        text-align: right;\n",
       "    }\n",
       "</style>\n",
       "<table border=\"1\" class=\"dataframe\">\n",
       "  <thead>\n",
       "    <tr style=\"text-align: right;\">\n",
       "      <th></th>\n",
       "      <th>neighbourhood_group_cleansed</th>\n",
       "      <th>neighbourhood_cleansed</th>\n",
       "      <th>property_type</th>\n",
       "      <th>room_type</th>\n",
       "      <th>bedrooms</th>\n",
       "      <th>bathrooms</th>\n",
       "      <th>guests_included</th>\n",
       "      <th>price</th>\n",
       "      <th>lnprice</th>\n",
       "    </tr>\n",
       "  </thead>\n",
       "  <tbody>\n",
       "    <tr>\n",
       "      <th>0</th>\n",
       "      <td>Manhattan</td>\n",
       "      <td>Midtown</td>\n",
       "      <td>Apartment</td>\n",
       "      <td>Entire home/apt</td>\n",
       "      <td>0</td>\n",
       "      <td>1.0</td>\n",
       "      <td>1</td>\n",
       "      <td>225</td>\n",
       "      <td>5.416100</td>\n",
       "    </tr>\n",
       "    <tr>\n",
       "      <th>1</th>\n",
       "      <td>Brooklyn</td>\n",
       "      <td>Clinton Hill</td>\n",
       "      <td>Guest suite</td>\n",
       "      <td>Entire home/apt</td>\n",
       "      <td>1</td>\n",
       "      <td>1.0</td>\n",
       "      <td>1</td>\n",
       "      <td>89</td>\n",
       "      <td>4.488636</td>\n",
       "    </tr>\n",
       "    <tr>\n",
       "      <th>2</th>\n",
       "      <td>Manhattan</td>\n",
       "      <td>Murray Hill</td>\n",
       "      <td>Apartment</td>\n",
       "      <td>Entire home/apt</td>\n",
       "      <td>1</td>\n",
       "      <td>1.0</td>\n",
       "      <td>2</td>\n",
       "      <td>200</td>\n",
       "      <td>5.298317</td>\n",
       "    </tr>\n",
       "    <tr>\n",
       "      <th>3</th>\n",
       "      <td>Manhattan</td>\n",
       "      <td>Hell's Kitchen</td>\n",
       "      <td>Apartment</td>\n",
       "      <td>Private room</td>\n",
       "      <td>1</td>\n",
       "      <td>1.0</td>\n",
       "      <td>1</td>\n",
       "      <td>79</td>\n",
       "      <td>4.369448</td>\n",
       "    </tr>\n",
       "    <tr>\n",
       "      <th>4</th>\n",
       "      <td>Manhattan</td>\n",
       "      <td>Upper West Side</td>\n",
       "      <td>Apartment</td>\n",
       "      <td>Private room</td>\n",
       "      <td>1</td>\n",
       "      <td>1.0</td>\n",
       "      <td>1</td>\n",
       "      <td>79</td>\n",
       "      <td>4.369448</td>\n",
       "    </tr>\n",
       "  </tbody>\n",
       "</table>\n",
       "</div>"
      ],
      "text/plain": [
       "  neighbourhood_group_cleansed neighbourhood_cleansed property_type  \\\n",
       "0                    Manhattan                Midtown     Apartment   \n",
       "1                     Brooklyn           Clinton Hill   Guest suite   \n",
       "2                    Manhattan            Murray Hill     Apartment   \n",
       "3                    Manhattan         Hell's Kitchen     Apartment   \n",
       "4                    Manhattan        Upper West Side     Apartment   \n",
       "\n",
       "         room_type bedrooms bathrooms  guests_included  price   lnprice  \n",
       "0  Entire home/apt        0       1.0                1    225  5.416100  \n",
       "1  Entire home/apt        1       1.0                1     89  4.488636  \n",
       "2  Entire home/apt        1       1.0                2    200  5.298317  \n",
       "3     Private room        1       1.0                1     79  4.369448  \n",
       "4     Private room        1       1.0                1     79  4.369448  "
      ]
     },
     "execution_count": 2,
     "metadata": {},
     "output_type": "execute_result"
    }
   ],
   "source": [
    "rate_df = pd.read_csv('../../data/rates_clean.csv', engine = 'python')\n",
    "\n",
    "rate_df['neighbourhood_group_cleansed'] = rate_df['neighbourhood_group_cleansed'].astype('category')\n",
    "rate_df['neighbourhood_cleansed'] = rate_df['neighbourhood_cleansed'].astype('category')\n",
    "rate_df['property_type'] = rate_df['property_type'].astype('category')\n",
    "rate_df['room_type'] = rate_df['room_type'].astype('category')\n",
    "rate_df['bedrooms'] = rate_df['bedrooms'].astype('category')\n",
    "rate_df['bathrooms'] = rate_df['bathrooms'].astype('category')\n",
    "\n",
    "rate_df.head()"
   ]
  },
  {
   "cell_type": "code",
   "execution_count": 3,
   "metadata": {
    "id": "ag7DVu19IMFW"
   },
   "outputs": [],
   "source": [
    "full_df = rate_df\n",
    "\n",
    "full_ddf = pd.get_dummies(full_df['neighbourhood_group_cleansed'], drop_first = True, prefix = 'borough:')\n",
    "full_ddf = pd.concat([full_ddf, pd.get_dummies(full_df['neighbourhood_cleansed'], drop_first = True, prefix = 'hood:')], \n",
    "                     axis = 1)\n",
    "full_ddf = pd.concat([full_ddf, pd.get_dummies(full_df['property_type'], drop_first = True, prefix = 'property:')], \n",
    "                     axis = 1)\n",
    "full_ddf = pd.concat([full_ddf, pd.get_dummies(full_df['room_type'],  prefix = 'room:')], axis = 1)\n",
    "full_ddf = pd.concat([full_ddf, pd.get_dummies(full_df['bedrooms'],  prefix = 'bed:')], axis = 1)\n",
    "full_ddf = pd.concat([full_ddf, pd.get_dummies(full_df['bathrooms'],  prefix = 'bath:')], axis = 1)\n",
    "\n",
    "full_df = full_df.drop(['neighbourhood_group_cleansed', 'neighbourhood_cleansed', 'property_type', \n",
    "                        'room_type', 'bedrooms', 'bathrooms', 'price'], axis = 1)\n",
    "\n",
    "y = pd.DataFrame(full_df['lnprice']).reset_index(drop = True)\n",
    "\n",
    "full_df = full_df.drop('lnprice', axis = 1)\n",
    "\n",
    "def featureNormalize(X):\n",
    "    return (X - np.mean(X, axis = 0)) / np.std(X, axis = 0, ddof = 1)\n",
    "\n",
    "X = pd.concat([featureNormalize(full_df), full_ddf], axis = 1).reset_index(drop = True)"
   ]
  },
  {
   "cell_type": "code",
   "execution_count": 4,
   "metadata": {
    "id": "q26xWFQYItsX"
   },
   "outputs": [],
   "source": [
    "random.seed(42)\n",
    "X_train = X.sample(frac = 0.7).sort_index()\n",
    "y_train = y[X.index.isin(X_train.index)]\n",
    "X_test = X[~X.index.isin(X_train.index)]\n",
    "y_test = y[~X.index.isin(X_train.index)]"
   ]
  },
  {
   "cell_type": "code",
   "execution_count": 5,
   "metadata": {
    "id": "QQ3Ezh67I2Py"
   },
   "outputs": [],
   "source": [
    "def create_model1(neurons = 0):\n",
    "    model = Sequential()\n",
    "    model.add(Input(shape = (234, )))\n",
    "    model.add(Dense(neurons, kernel_initializer = 'normal', activation = 'relu'))\n",
    "    model.add(Dense(1, kernel_initializer = 'normal'))\n",
    "    model.compile(loss = 'mean_squared_error', optimizer = 'adam', metrics = ['MeanSquaredError'])\n",
    "    return model"
   ]
  },
  {
   "cell_type": "markdown",
   "metadata": {},
   "source": [
    "#### Model 1: # of Neurons in the 1st hidden layer"
   ]
  },
  {
   "cell_type": "code",
   "execution_count": 6,
   "metadata": {
    "id": "YFtfsoQ1I7kf"
   },
   "outputs": [],
   "source": [
    "nnc1_model = KerasRegressor(build_fn = create_model1, batch_size = 100, epochs = 10, verbose = 0)\n",
    "\n",
    "nnc1_neuron_arr = [1, 5, 10, 15, 20, 25, 30]\n",
    "\n",
    "nnc1 = GridSearchCV(estimator = nnc1_model, \n",
    "                    param_grid = {'neurons' : nnc1_neuron_arr}, \n",
    "                    n_jobs = -1, scoring = 'neg_root_mean_squared_error', cv = 5, return_train_score = True)\n",
    "\n",
    "nnc1.fit(X_train.values, y_train)\n",
    "\n",
    "nnc1_df = pd.DataFrame(nnc1.cv_results_)"
   ]
  },
  {
   "cell_type": "code",
   "execution_count": 7,
   "metadata": {
    "id": "gbzVxKE_W0b_"
   },
   "outputs": [
    {
     "data": {
      "text/html": [
       "<div>\n",
       "<style scoped>\n",
       "    .dataframe tbody tr th:only-of-type {\n",
       "        vertical-align: middle;\n",
       "    }\n",
       "\n",
       "    .dataframe tbody tr th {\n",
       "        vertical-align: top;\n",
       "    }\n",
       "\n",
       "    .dataframe thead th {\n",
       "        text-align: right;\n",
       "    }\n",
       "</style>\n",
       "<table border=\"1\" class=\"dataframe\">\n",
       "  <thead>\n",
       "    <tr style=\"text-align: right;\">\n",
       "      <th></th>\n",
       "      <th>param_neurons</th>\n",
       "      <th>mean_train_score</th>\n",
       "      <th>mean_test_score</th>\n",
       "    </tr>\n",
       "  </thead>\n",
       "  <tbody>\n",
       "    <tr>\n",
       "      <th>0</th>\n",
       "      <td>1</td>\n",
       "      <td>-0.789161</td>\n",
       "      <td>-0.817513</td>\n",
       "    </tr>\n",
       "    <tr>\n",
       "      <th>1</th>\n",
       "      <td>5</td>\n",
       "      <td>-0.388352</td>\n",
       "      <td>-0.396075</td>\n",
       "    </tr>\n",
       "    <tr>\n",
       "      <th>2</th>\n",
       "      <td>10</td>\n",
       "      <td>-0.386266</td>\n",
       "      <td>-0.394673</td>\n",
       "    </tr>\n",
       "    <tr>\n",
       "      <th>3</th>\n",
       "      <td>15</td>\n",
       "      <td>-0.382980</td>\n",
       "      <td>-0.392163</td>\n",
       "    </tr>\n",
       "    <tr>\n",
       "      <th>4</th>\n",
       "      <td>20</td>\n",
       "      <td>-0.379034</td>\n",
       "      <td>-0.389621</td>\n",
       "    </tr>\n",
       "    <tr>\n",
       "      <th>5</th>\n",
       "      <td>25</td>\n",
       "      <td>-0.381807</td>\n",
       "      <td>-0.391318</td>\n",
       "    </tr>\n",
       "    <tr>\n",
       "      <th>6</th>\n",
       "      <td>30</td>\n",
       "      <td>-0.378872</td>\n",
       "      <td>-0.391520</td>\n",
       "    </tr>\n",
       "  </tbody>\n",
       "</table>\n",
       "</div>"
      ],
      "text/plain": [
       "  param_neurons  mean_train_score  mean_test_score\n",
       "0             1         -0.789161        -0.817513\n",
       "1             5         -0.388352        -0.396075\n",
       "2            10         -0.386266        -0.394673\n",
       "3            15         -0.382980        -0.392163\n",
       "4            20         -0.379034        -0.389621\n",
       "5            25         -0.381807        -0.391318\n",
       "6            30         -0.378872        -0.391520"
      ]
     },
     "execution_count": 7,
     "metadata": {},
     "output_type": "execute_result"
    }
   ],
   "source": [
    "nnc1_df[['param_neurons', 'mean_train_score', 'mean_test_score']]"
   ]
  },
  {
   "cell_type": "markdown",
   "metadata": {},
   "source": [
    "#### Model 2: # of Neurons in the 2nd hidden layer"
   ]
  },
  {
   "cell_type": "code",
   "execution_count": 8,
   "metadata": {
    "id": "6znvlHYlWnM3"
   },
   "outputs": [],
   "source": [
    "def create_model2(neurons = 0):\n",
    "    model = Sequential()\n",
    "    model.add(Input(shape = (234, )))\n",
    "    model.add(Dense(10, kernel_initializer = 'normal', activation = 'relu'))\n",
    "    model.add(Dense(neurons, kernel_initializer = 'normal', activation = 'relu'))\n",
    "    model.add(Dense(1, kernel_initializer = 'normal'))\n",
    "    model.compile(loss = 'mean_squared_error', optimizer = 'adam', metrics = ['MeanSquaredError'])\n",
    "    return model"
   ]
  },
  {
   "cell_type": "code",
   "execution_count": 9,
   "metadata": {
    "id": "520rDNAuWx2s"
   },
   "outputs": [],
   "source": [
    "nnc2_model = KerasRegressor(build_fn = create_model2, batch_size = 100, epochs = 10, verbose = 0)\n",
    "\n",
    "nnc2_neuron_arr = [1, 5, 10, 15, 20, 25, 30]\n",
    "\n",
    "nnc2 = GridSearchCV(estimator = nnc2_model, \n",
    "                    param_grid = {'neurons' : nnc2_neuron_arr}, \n",
    "                    n_jobs = -1, scoring = 'neg_root_mean_squared_error', cv = 5, return_train_score = True)\n",
    "\n",
    "nnc2.fit(X_train.values, y_train)\n",
    "\n",
    "nnc2_df = pd.DataFrame(nnc2.cv_results_)"
   ]
  },
  {
   "cell_type": "code",
   "execution_count": 10,
   "metadata": {
    "id": "jZE9Llcs5wWZ"
   },
   "outputs": [
    {
     "data": {
      "text/html": [
       "<div>\n",
       "<style scoped>\n",
       "    .dataframe tbody tr th:only-of-type {\n",
       "        vertical-align: middle;\n",
       "    }\n",
       "\n",
       "    .dataframe tbody tr th {\n",
       "        vertical-align: top;\n",
       "    }\n",
       "\n",
       "    .dataframe thead th {\n",
       "        text-align: right;\n",
       "    }\n",
       "</style>\n",
       "<table border=\"1\" class=\"dataframe\">\n",
       "  <thead>\n",
       "    <tr style=\"text-align: right;\">\n",
       "      <th></th>\n",
       "      <th>param_neurons</th>\n",
       "      <th>mean_train_score</th>\n",
       "      <th>mean_test_score</th>\n",
       "    </tr>\n",
       "  </thead>\n",
       "  <tbody>\n",
       "    <tr>\n",
       "      <th>0</th>\n",
       "      <td>1</td>\n",
       "      <td>-1.182591</td>\n",
       "      <td>-1.178889</td>\n",
       "    </tr>\n",
       "    <tr>\n",
       "      <th>1</th>\n",
       "      <td>5</td>\n",
       "      <td>-0.382897</td>\n",
       "      <td>-0.391716</td>\n",
       "    </tr>\n",
       "    <tr>\n",
       "      <th>2</th>\n",
       "      <td>10</td>\n",
       "      <td>-0.385259</td>\n",
       "      <td>-0.395022</td>\n",
       "    </tr>\n",
       "    <tr>\n",
       "      <th>3</th>\n",
       "      <td>15</td>\n",
       "      <td>-0.383490</td>\n",
       "      <td>-0.392320</td>\n",
       "    </tr>\n",
       "    <tr>\n",
       "      <th>4</th>\n",
       "      <td>20</td>\n",
       "      <td>-0.386276</td>\n",
       "      <td>-0.395449</td>\n",
       "    </tr>\n",
       "    <tr>\n",
       "      <th>5</th>\n",
       "      <td>25</td>\n",
       "      <td>-0.383805</td>\n",
       "      <td>-0.393770</td>\n",
       "    </tr>\n",
       "    <tr>\n",
       "      <th>6</th>\n",
       "      <td>30</td>\n",
       "      <td>-0.387187</td>\n",
       "      <td>-0.394925</td>\n",
       "    </tr>\n",
       "  </tbody>\n",
       "</table>\n",
       "</div>"
      ],
      "text/plain": [
       "  param_neurons  mean_train_score  mean_test_score\n",
       "0             1         -1.182591        -1.178889\n",
       "1             5         -0.382897        -0.391716\n",
       "2            10         -0.385259        -0.395022\n",
       "3            15         -0.383490        -0.392320\n",
       "4            20         -0.386276        -0.395449\n",
       "5            25         -0.383805        -0.393770\n",
       "6            30         -0.387187        -0.394925"
      ]
     },
     "execution_count": 10,
     "metadata": {},
     "output_type": "execute_result"
    }
   ],
   "source": [
    "nnc2_df[['param_neurons', 'mean_train_score', 'mean_test_score']]"
   ]
  },
  {
   "cell_type": "markdown",
   "metadata": {},
   "source": [
    "#### Model 3: # of Neurons in the 3rd hidden layer"
   ]
  },
  {
   "cell_type": "code",
   "execution_count": 11,
   "metadata": {
    "id": "sGgmfcfx6FOP"
   },
   "outputs": [],
   "source": [
    "def create_model3(neurons = 0):\n",
    "    model = Sequential()\n",
    "    model.add(Input(shape = (234, )))\n",
    "    model.add(Dense(10, kernel_initializer = 'normal', activation = 'relu'))\n",
    "    model.add(Dense(5, kernel_initializer = 'normal', activation = 'relu'))\n",
    "    model.add(Dense(neurons, kernel_initializer = 'normal', activation = 'relu'))\n",
    "    model.add(Dense(1, kernel_initializer = 'normal'))\n",
    "    model.compile(loss = 'mean_squared_error', optimizer = 'adam', metrics = ['MeanSquaredError'])\n",
    "    return model"
   ]
  },
  {
   "cell_type": "code",
   "execution_count": 12,
   "metadata": {
    "id": "Dow2rxlyM0rR"
   },
   "outputs": [],
   "source": [
    "nnc3_model = KerasRegressor(build_fn = create_model3, batch_size = 100, epochs = 10, verbose = 0)\n",
    "\n",
    "nnc3_neuron_arr = [1, 5, 10, 15, 20, 25, 30]\n",
    "\n",
    "nnc3 = GridSearchCV(estimator = nnc3_model, \n",
    "                    param_grid = {'neurons' : nnc3_neuron_arr}, \n",
    "                    n_jobs = -1, scoring = 'neg_root_mean_squared_error', cv = 5, return_train_score = True)\n",
    "\n",
    "nnc3.fit(X_train.values, y_train)\n",
    "\n",
    "nnc3_df = pd.DataFrame(nnc3.cv_results_)"
   ]
  },
  {
   "cell_type": "code",
   "execution_count": 13,
   "metadata": {
    "id": "4Xn_2Za6PrPr"
   },
   "outputs": [
    {
     "data": {
      "text/html": [
       "<div>\n",
       "<style scoped>\n",
       "    .dataframe tbody tr th:only-of-type {\n",
       "        vertical-align: middle;\n",
       "    }\n",
       "\n",
       "    .dataframe tbody tr th {\n",
       "        vertical-align: top;\n",
       "    }\n",
       "\n",
       "    .dataframe thead th {\n",
       "        text-align: right;\n",
       "    }\n",
       "</style>\n",
       "<table border=\"1\" class=\"dataframe\">\n",
       "  <thead>\n",
       "    <tr style=\"text-align: right;\">\n",
       "      <th></th>\n",
       "      <th>param_neurons</th>\n",
       "      <th>mean_train_score</th>\n",
       "      <th>mean_test_score</th>\n",
       "    </tr>\n",
       "  </thead>\n",
       "  <tbody>\n",
       "    <tr>\n",
       "      <th>0</th>\n",
       "      <td>1</td>\n",
       "      <td>-1.575901</td>\n",
       "      <td>-1.588166</td>\n",
       "    </tr>\n",
       "    <tr>\n",
       "      <th>1</th>\n",
       "      <td>5</td>\n",
       "      <td>-0.385305</td>\n",
       "      <td>-0.393800</td>\n",
       "    </tr>\n",
       "    <tr>\n",
       "      <th>2</th>\n",
       "      <td>10</td>\n",
       "      <td>-0.383543</td>\n",
       "      <td>-0.391709</td>\n",
       "    </tr>\n",
       "    <tr>\n",
       "      <th>3</th>\n",
       "      <td>15</td>\n",
       "      <td>-0.384742</td>\n",
       "      <td>-0.393099</td>\n",
       "    </tr>\n",
       "    <tr>\n",
       "      <th>4</th>\n",
       "      <td>20</td>\n",
       "      <td>-0.383219</td>\n",
       "      <td>-0.391470</td>\n",
       "    </tr>\n",
       "    <tr>\n",
       "      <th>5</th>\n",
       "      <td>25</td>\n",
       "      <td>-0.381561</td>\n",
       "      <td>-0.390569</td>\n",
       "    </tr>\n",
       "    <tr>\n",
       "      <th>6</th>\n",
       "      <td>30</td>\n",
       "      <td>-0.383004</td>\n",
       "      <td>-0.393495</td>\n",
       "    </tr>\n",
       "  </tbody>\n",
       "</table>\n",
       "</div>"
      ],
      "text/plain": [
       "  param_neurons  mean_train_score  mean_test_score\n",
       "0             1         -1.575901        -1.588166\n",
       "1             5         -0.385305        -0.393800\n",
       "2            10         -0.383543        -0.391709\n",
       "3            15         -0.384742        -0.393099\n",
       "4            20         -0.383219        -0.391470\n",
       "5            25         -0.381561        -0.390569\n",
       "6            30         -0.383004        -0.393495"
      ]
     },
     "execution_count": 13,
     "metadata": {},
     "output_type": "execute_result"
    }
   ],
   "source": [
    "nnc3_df[['param_neurons', 'mean_train_score', 'mean_test_score']]"
   ]
  },
  {
   "cell_type": "markdown",
   "metadata": {},
   "source": [
    "#### Model 4: Learning Rate of the Network"
   ]
  },
  {
   "cell_type": "code",
   "execution_count": 14,
   "metadata": {
    "id": "3Io1q2zxPvv-"
   },
   "outputs": [],
   "source": [
    "def create_model4(learn_rate = 0.01):\n",
    "    model = Sequential()\n",
    "    model.add(Input(shape = (234, )))\n",
    "    model.add(Dense(10, kernel_initializer = 'normal', activation = 'relu'))\n",
    "    model.add(Dense(5, kernel_initializer = 'normal', activation = 'relu'))\n",
    "    model.add(Dense(1, kernel_initializer = 'normal'))\n",
    "    optimizer = Adam(learning_rate = learn_rate)\n",
    "    model.compile(loss = 'mean_squared_error', optimizer = optimizer, metrics = ['MeanSquaredError'])\n",
    "    return model"
   ]
  },
  {
   "cell_type": "code",
   "execution_count": 15,
   "metadata": {
    "id": "ov8nG4LqQoJ2"
   },
   "outputs": [],
   "source": [
    "nnc4_model = KerasRegressor(build_fn = create_model4, batch_size = 100, epochs = 10, verbose = 0)\n",
    "\n",
    "nnc4_learn_rate_arr = [0.001, 0.01, 0.1, 0.2, 0.5]\n",
    "\n",
    "nnc4 = GridSearchCV(estimator = nnc4_model, \n",
    "                    param_grid = {'learn_rate' : nnc4_learn_rate_arr}, \n",
    "                    n_jobs = -1, scoring = 'neg_root_mean_squared_error', cv = 5, return_train_score = True)\n",
    "\n",
    "nnc4.fit(X_train.values, y_train)\n",
    "\n",
    "nnc4_df = pd.DataFrame(nnc4.cv_results_)"
   ]
  },
  {
   "cell_type": "code",
   "execution_count": 16,
   "metadata": {
    "id": "29QwW6dFRzG1"
   },
   "outputs": [
    {
     "data": {
      "text/html": [
       "<div>\n",
       "<style scoped>\n",
       "    .dataframe tbody tr th:only-of-type {\n",
       "        vertical-align: middle;\n",
       "    }\n",
       "\n",
       "    .dataframe tbody tr th {\n",
       "        vertical-align: top;\n",
       "    }\n",
       "\n",
       "    .dataframe thead th {\n",
       "        text-align: right;\n",
       "    }\n",
       "</style>\n",
       "<table border=\"1\" class=\"dataframe\">\n",
       "  <thead>\n",
       "    <tr style=\"text-align: right;\">\n",
       "      <th></th>\n",
       "      <th>param_learn_rate</th>\n",
       "      <th>mean_train_score</th>\n",
       "      <th>mean_test_score</th>\n",
       "    </tr>\n",
       "  </thead>\n",
       "  <tbody>\n",
       "    <tr>\n",
       "      <th>0</th>\n",
       "      <td>0.001</td>\n",
       "      <td>-0.385073</td>\n",
       "      <td>-0.393877</td>\n",
       "    </tr>\n",
       "    <tr>\n",
       "      <th>1</th>\n",
       "      <td>0.01</td>\n",
       "      <td>-0.385087</td>\n",
       "      <td>-0.396643</td>\n",
       "    </tr>\n",
       "    <tr>\n",
       "      <th>2</th>\n",
       "      <td>0.1</td>\n",
       "      <td>-0.383091</td>\n",
       "      <td>-0.396959</td>\n",
       "    </tr>\n",
       "    <tr>\n",
       "      <th>3</th>\n",
       "      <td>0.2</td>\n",
       "      <td>-0.391085</td>\n",
       "      <td>-0.402910</td>\n",
       "    </tr>\n",
       "    <tr>\n",
       "      <th>4</th>\n",
       "      <td>0.5</td>\n",
       "      <td>-0.643989</td>\n",
       "      <td>-0.649535</td>\n",
       "    </tr>\n",
       "  </tbody>\n",
       "</table>\n",
       "</div>"
      ],
      "text/plain": [
       "  param_learn_rate  mean_train_score  mean_test_score\n",
       "0            0.001         -0.385073        -0.393877\n",
       "1             0.01         -0.385087        -0.396643\n",
       "2              0.1         -0.383091        -0.396959\n",
       "3              0.2         -0.391085        -0.402910\n",
       "4              0.5         -0.643989        -0.649535"
      ]
     },
     "execution_count": 16,
     "metadata": {},
     "output_type": "execute_result"
    }
   ],
   "source": [
    "nnc4_df[['param_learn_rate', 'mean_train_score', 'mean_test_score']]"
   ]
  },
  {
   "cell_type": "markdown",
   "metadata": {},
   "source": [
    "#### Model 5: Drop-out Rate and Weight Constraint of the Network"
   ]
  },
  {
   "cell_type": "code",
   "execution_count": 17,
   "metadata": {
    "id": "INv9rmrxZkKE"
   },
   "outputs": [],
   "source": [
    "def create_model5(dropout_rate = 0.0, weight_constraint = 0):\n",
    "    model = Sequential()\n",
    "    model.add(Input(shape = (234, )))\n",
    "    model.add(Dense(10, kernel_initializer = 'normal', kernel_constraint = maxnorm(weight_constraint), activation = 'relu'))\n",
    "    model.add(Dropout(dropout_rate))\n",
    "    model.add(Dense(5, kernel_initializer = 'normal', kernel_constraint = maxnorm(weight_constraint), activation = 'relu'))\n",
    "    model.add(Dropout(dropout_rate))\n",
    "    model.add(Dense(1, kernel_initializer = 'normal'))\n",
    "    optimizer = Adam(learning_rate = 0.1)\n",
    "    model.compile(loss = 'mean_squared_error', optimizer = optimizer, metrics = ['MeanSquaredError'])\n",
    "    return model"
   ]
  },
  {
   "cell_type": "code",
   "execution_count": 18,
   "metadata": {
    "id": "59mfga5Gafo0"
   },
   "outputs": [],
   "source": [
    "nnc5_model = KerasRegressor(build_fn = create_model5, batch_size = 100, epochs = 10, verbose = 0)\n",
    "\n",
    "nnc5_wgt_constraint_arr = [0, 1, 2, 3, 4, 5]\n",
    "nnc5_dropout_rate_arr = [0.0, 0.1, 0.2, 0.5, 0.9]\n",
    "\n",
    "nnc5 = GridSearchCV(estimator = nnc5_model, \n",
    "                    param_grid = {'weight_constraint' : nnc5_wgt_constraint_arr,\n",
    "                                  'dropout_rate' : nnc5_dropout_rate_arr}, \n",
    "                    n_jobs = -1, scoring = 'neg_root_mean_squared_error', cv = 5, return_train_score = True)\n",
    "\n",
    "nnc5.fit(X_train.values, y_train)\n",
    "\n",
    "nnc5_df = pd.DataFrame(nnc5.cv_results_)"
   ]
  },
  {
   "cell_type": "code",
   "execution_count": 19,
   "metadata": {
    "id": "EvNPfUz_a3eu"
   },
   "outputs": [
    {
     "data": {
      "image/png": "[encoded data removed]",
      "text/plain": [
       "<Figure size 432x288 with 2 Axes>"
      ]
     },
     "metadata": {
      "needs_background": "light"
     },
     "output_type": "display_data"
    },
    {
     "data": {
      "image/png": "[encoded data removed]",
      "text/plain": [
       "<Figure size 432x288 with 2 Axes>"
      ]
     },
     "metadata": {
      "needs_background": "light"
     },
     "output_type": "display_data"
    }
   ],
   "source": [
    "nnc5_train_rmse_mat = nnc5_df['mean_train_score'].values.reshape(len(nnc5_wgt_constraint_arr), len(nnc5_dropout_rate_arr))\n",
    "ax = sns.heatmap(pd.DataFrame(nnc5_train_rmse_mat, columns = nnc5_dropout_rate_arr, \n",
    "                              index = nnc5_wgt_constraint_arr).iloc[::-1], annot = True, cmap = 'Greens')\n",
    "ax.set(xlabel = 'Drop-out Rate', ylabel = 'Max Norm Weight', title = 'Train MSE vs Tuning Parameters')\n",
    "plt.show()\n",
    "\n",
    "nnc5_cv_rmse_mat = nnc5_df['mean_test_score'].values.reshape(len(nnc5_wgt_constraint_arr), len(nnc5_dropout_rate_arr))\n",
    "ax = sns.heatmap(pd.DataFrame(nnc5_cv_rmse_mat, columns = nnc5_dropout_rate_arr, \n",
    "                              index = nnc5_wgt_constraint_arr).iloc[::-1], annot = True, cmap = 'Greens')\n",
    "ax.set(xlabel = 'Drop-out Rate', ylabel = 'Max Norm Weight', title = 'CV MSE vs Tuning Parameters')\n",
    "plt.show()"
   ]
  },
  {
   "cell_type": "markdown",
   "metadata": {},
   "source": [
    "#### Final Model"
   ]
  },
  {
   "cell_type": "code",
   "execution_count": 20,
   "metadata": {
    "id": "-2cEKg-nfX3Z"
   },
   "outputs": [
    {
     "data": {
      "text/plain": [
       "<tensorflow.python.keras.callbacks.History at 0x1e43b3f9400>"
      ]
     },
     "execution_count": 20,
     "metadata": {},
     "output_type": "execute_result"
    }
   ],
   "source": [
    "def final_model():\n",
    "    model = Sequential()\n",
    "    model.add(Input(shape = (234, )))\n",
    "    model.add(Dense(10, kernel_initializer = 'normal', activation = 'relu'))\n",
    "    model.add(Dense(5, kernel_initializer = 'normal', activation = 'relu'))\n",
    "    model.add(Dense(1, kernel_initializer = 'normal'))\n",
    "    optimizer = Adam(learning_rate = 0.1)\n",
    "    model.compile(loss = 'mean_squared_error', optimizer = optimizer, metrics = ['MeanSquaredError'])\n",
    "    return model\n",
    "\n",
    "annr = KerasRegressor(build_fn = final_model, batch_size = 100, epochs = 10, verbose = 0)\n",
    "\n",
    "annr.fit(X_train.values, y_train)"
   ]
  },
  {
   "cell_type": "code",
   "execution_count": 21,
   "metadata": {
    "id": "A5q_MwB6iyd1"
   },
   "outputs": [
    {
     "name": "stdout",
     "output_type": "stream",
     "text": [
      "Test RMSE: 0.3890\n",
      "Test MAE: 0.2969\n",
      "Test R2: 0.6327\n"
     ]
    }
   ],
   "source": [
    "pred_annr = annr.predict(X_test)\n",
    "\n",
    "print('Test RMSE: {:.4f}'.format(mean_squared_error(y_test, pred_annr, squared = False)))\n",
    "print('Test MAE: {:.4f}'.format(mean_absolute_error(y_test, pred_annr)))\n",
    "print('Test R2: {:.4f}'.format(r2_score(y_test, pred_annr)))"
   ]
  }
 ],
 "metadata": {
  "colab": {
   "collapsed_sections": [],
   "name": "neural_network_regression.ipynb",
   "provenance": []
  },
  "kernelspec": {
   "display_name": "Python 3",
   "language": "python",
   "name": "python3"
  },
  "language_info": {
   "codemirror_mode": {
    "name": "ipython",
    "version": 3
   },
   "file_extension": ".py",
   "mimetype": "text/x-python",
   "name": "python",
   "nbconvert_exporter": "python",
   "pygments_lexer": "ipython3",
   "version": "3.8.2"
  }
 },
 "nbformat": 4,
 "nbformat_minor": 1
}
